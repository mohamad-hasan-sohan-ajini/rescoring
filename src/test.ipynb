{
 "cells": [
  {
   "cell_type": "code",
   "execution_count": 1,
   "id": "21403c88",
   "metadata": {},
   "outputs": [],
   "source": [
    "import torch\n",
    "\n",
    "device = torch.device(\"cpu\")"
   ]
  },
  {
   "cell_type": "code",
   "execution_count": 2,
   "id": "7f074c13",
   "metadata": {},
   "outputs": [
    {
     "name": "stderr",
     "output_type": "stream",
     "text": [
      "/home/aj/venv/lib/python3.11/site-packages/pytorch_lightning/utilities/migration/utils.py:56: The loaded checkpoint was produced with Lightning v2.5.5, which is newer than your current Lightning version: v2.5.0.post0\n"
     ]
    }
   ],
   "source": [
    "from model.model import NTPModel\n",
    "\n",
    "model = NTPModel.load_from_checkpoint(\n",
    "    \"checkpoints/train-minloss-epoch=0-step=1340000.ckpt\",\n",
    "    token_size=2000,\n",
    "    d_model=512,\n",
    "    n_heads=8,\n",
    "    dim_feedforward=2048,\n",
    "    num_layers=6,\n",
    ")\n",
    "model = model.to(device)"
   ]
  },
  {
   "cell_type": "code",
   "execution_count": 3,
   "id": "e5b7d987",
   "metadata": {},
   "outputs": [],
   "source": [
    "import sentencepiece as spm\n",
    "\n",
    "sp = spm.SentencePieceProcessor(model_file=\"data/tokenizer/unigram_2000.model\")"
   ]
  },
  {
   "cell_type": "code",
   "execution_count": 22,
   "id": "d003318c",
   "metadata": {},
   "outputs": [],
   "source": [
    "from torch import nn\n",
    "\n",
    "from data.positional_encoder import get_positional_encoding\n",
    "\n",
    "positional_encoding = get_positional_encoding(d_model=512, max_len=1200)\n",
    "\n",
    "\n",
    "def create_model_inputs(sentence):\n",
    "    # encode sentence\n",
    "    tokens = sp.encode(sentence.upper())\n",
    "    tokens = [sp.bos_id()] + tokens + [sp.eos_id()]\n",
    "    x = torch.LongTensor(tokens).unsqueeze(0).to(device)  # (batch_size, seq_len)\n",
    "    seq_len = x.size(1)\n",
    "    # crop positional encoding\n",
    "    pe = positional_encoding.pe[:seq_len]\n",
    "    pe = pe.to(device)\n",
    "    # create mask\n",
    "    causal_mask = nn.Transformer.generate_square_subsequent_mask(seq_len)\n",
    "    causal_mask = causal_mask.bool().to(device)\n",
    "    return (x, pe, causal_mask)\n",
    "\n",
    "\n",
    "def get_sentence_prob(x, pe, mask):\n",
    "    with torch.no_grad():\n",
    "        pred = model(x, pe, mask)  # (batch_size, seq_len, token_size)\n",
    "        pred = pred.exp()  # convert log-prob to probabilities\n",
    "        # get probabilities of the actual tokens\n",
    "        token_probs = torch.gather(pred, 2, x.unsqueeze(-1)).squeeze(-1)\n",
    "        # ignore the first token (bos)\n",
    "        token_probs = token_probs[:, 1:]\n",
    "        sentence_log_prob = token_probs.sum().item()\n",
    "        sentence_prob = torch.exp(torch.tensor(sentence_log_prob)).item()\n",
    "    return sentence_prob"
   ]
  },
  {
   "cell_type": "code",
   "execution_count": null,
   "id": "acec2b8e",
   "metadata": {},
   "outputs": [],
   "source": [
    "sentence1 = \"He was sitting in the beach\"\n",
    "sentence2 = \"He were sitting in the beach\"\n",
    "\n",
    "sentence1 = \"He see the suspicious man who was sitting in the beach\"\n",
    "sentence2 = \"He sees the suspicious man who was sitting in the beach\""
   ]
  },
  {
   "cell_type": "code",
   "execution_count": 24,
   "id": "565248e4",
   "metadata": {},
   "outputs": [],
   "source": [
    "\n",
    "x1, pe1, mask1 = create_model_inputs(sentence1)\n",
    "sentence1_prob = get_sentence_prob(x1, pe1, mask1)\n",
    "\n",
    "x2, pe2, mask2 = create_model_inputs(sentence2)\n",
    "sentence2_prob = get_sentence_prob(x2, pe2, mask2)"
   ]
  },
  {
   "cell_type": "code",
   "execution_count": 25,
   "id": "1963da78",
   "metadata": {},
   "outputs": [
    {
     "name": "stdout",
     "output_type": "stream",
     "text": [
      "1.0077720880508423 1.0017191171646118\n"
     ]
    }
   ],
   "source": [
    "print(sentence1_prob, sentence2_prob)"
   ]
  },
  {
   "cell_type": "code",
   "execution_count": null,
   "id": "866393cb",
   "metadata": {},
   "outputs": [],
   "source": []
  }
 ],
 "metadata": {
  "kernelspec": {
   "display_name": "venv",
   "language": "python",
   "name": "python3"
  },
  "language_info": {
   "codemirror_mode": {
    "name": "ipython",
    "version": 3
   },
   "file_extension": ".py",
   "mimetype": "text/x-python",
   "name": "python",
   "nbconvert_exporter": "python",
   "pygments_lexer": "ipython3",
   "version": "3.11.13"
  }
 },
 "nbformat": 4,
 "nbformat_minor": 5
}
